{
 "cells": [
  {
   "cell_type": "code",
   "execution_count": 11,
   "id": "c9839352",
   "metadata": {},
   "outputs": [],
   "source": [
    "from cv2 import imread, resize, imshow, destroyAllWindows, waitKey\n",
    "import numpy as np\n",
    "import torch\n",
    "import glob, os\n",
    "import json\n",
    "import xml.etree.cElementTree as ET\n",
    "from parameters import IMAGE_HEIGHT, IMAGE_WIDTH, device\n",
    "\n",
    "\n",
    "class CustomImageDataset:\n",
    "    def __init__(\n",
    "        self, base_path=\"Single_Labels\", img_dir=glob.glob(\"Line_data/Images/*/*/*\"),\n",
    "    ):\n",
    "\n",
    "        self.base_path = base_path\n",
    "        print(\"Label lenght\",(self.base_path))\n",
    "        self.img_dir = img_dir\n",
    "        print(\"No of Image\",len(self.img_dir))\n",
    "\n",
    "    def Load_Image_Label(self, image_path):\n",
    "        # Open the image file\n",
    "        label = tuple()\n",
    "        json_path = os.path.join(\n",
    "            self.base_path, image_path.split(\"\\\\\")[-1][:-4] + \".json\"\n",
    "        )\n",
    "        with open(json_path, \"r\") as json_file:\n",
    "            label = json.load(json_file)\n",
    "        img = imread(image_path, 0)\n",
    "        img = 255 - img\n",
    "        img_height, img_width = img.shape[0], img.shape[1]\n",
    "        n_repeats = int(np.ceil(IMAGE_WIDTH / img_width))\n",
    "        padded_image = np.concatenate([img] * n_repeats, axis=1)\n",
    "        padded_image = padded_image[:IMAGE_HEIGHT, :IMAGE_WIDTH]\n",
    "        resized_img = resize(padded_image, (IMAGE_WIDTH, IMAGE_HEIGHT))\n",
    "        return (resized_img, label)\n",
    "        # plt.imshow(img)\n",
    "        # plt.show()\n",
    "\n",
    "    def __len__(self):\n",
    "        return len(self.img_dir)\n",
    "\n",
    "    def __getitem__(self, idx):\n",
    "        print(idx)\n",
    "        # import pdb;pdb.set_trace()\n",
    "        Image, Labels = self.Load_Image_Label(self.img_dir[idx])\n",
    "        return torch.tensor(Image, device=device).float(), Labels\n",
    "        # return Image,Labels\n"
   ]
  },
  {
   "cell_type": "code",
   "execution_count": 12,
   "id": "716b61e8",
   "metadata": {},
   "outputs": [
    {
     "name": "stdout",
     "output_type": "stream",
     "text": [
      "Label lenght Single_Labels\n",
      "No of Image 0\n",
      "The train_loader is empty.\n"
     ]
    }
   ],
   "source": [
    "TextDatasetObj = CustomImageDataset()\n",
    "no_workers=0\n",
    "dataset = torch.utils.data.DataLoader(\n",
    "TextDatasetObj, batch_size=15, num_workers=no_workers\n",
    ")\n",
    "if len(dataset) == 0:\n",
    "    print(\"The train_loader is empty.\")\n",
    "    StopIteration"
   ]
  },
  {
   "cell_type": "code",
   "execution_count": 6,
   "id": "26bd6da9",
   "metadata": {},
   "outputs": [
    {
     "name": "stderr",
     "output_type": "stream",
     "text": [
      "0it [00:00, ?it/s]\n"
     ]
    }
   ],
   "source": [
    "import tqdm\n",
    "for Image, Label in tqdm.tqdm(dataset):\n",
    "    label = pad_str(Label[0])\n",
    "    print(f\"{len(label)=} {len(label[0][0])=}\")"
   ]
  },
  {
   "cell_type": "code",
   "execution_count": null,
   "id": "d4e27ce6",
   "metadata": {},
   "outputs": [],
   "source": []
  }
 ],
 "metadata": {
  "kernelspec": {
   "display_name": "Python 3 (ipykernel)",
   "language": "python",
   "name": "python3"
  },
  "language_info": {
   "codemirror_mode": {
    "name": "ipython",
    "version": 3
   },
   "file_extension": ".py",
   "mimetype": "text/x-python",
   "name": "python",
   "nbconvert_exporter": "python",
   "pygments_lexer": "ipython3",
   "version": "3.9.15"
  }
 },
 "nbformat": 4,
 "nbformat_minor": 5
}
